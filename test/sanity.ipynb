{
 "cells": [
  {
   "cell_type": "code",
   "execution_count": 1,
   "metadata": {},
   "outputs": [],
   "source": [
    "#test get_sequence\n",
    "import os, pickle\n",
    "import numpy as np\n",
    "import Bio.PDB\n",
    "from Bio import SeqIO\n",
    "from Bio.PDB.DSSP import DSSP\n",
    "from collections import defaultdict\n",
    "import numpy as np\n",
    "import torch\n",
    "from torch.utils.data import Dataset\n",
    "from Utils import struc_feat\n",
    "#import from atomRefine cal_covalent and bond and \n",
    "from Utils.pair_handler import cal_covalent\n",
    "import os,re"
   ]
  },
  {
   "cell_type": "code",
   "execution_count": 24,
   "metadata": {},
   "outputs": [],
   "source": [
    "class DataConversion(Dataset):\n",
    "    def __init__(self, root, transform=None, pre_transform=None):\n",
    "        # super(DataConversion, self).__init__(root, transform=None,\n",
    "        #         pre_transform=None)\n",
    "        #TO DO: possible pre-relax transformation protocol?\n",
    "        self.root = root\n",
    "        \n",
    "    def __len__(self):\n",
    "        return self.data_len\n",
    "    \n",
    "    @property\n",
    "    def raw_pre_relaxed_files(self):\n",
    "        return [filename for filename in os.scandir(self.root + \"/pre_relax\") ]\n",
    "    @property\n",
    "    def raw_relaxed_afdb_files(self):\n",
    "        return [filename for filename in os.scandir(self.root + \"/relax\") if \"_relaxed_0001.pdb\" in filename.name]\n",
    "    \n",
    "    \n",
    "    def __get_node_feat__(self, file):\n",
    "        #TODO call get_backbone_angles for pre-relax and relax\n",
    "        # node feat\n",
    "        node_feat = {}\n",
    "        #for file in self.raw_pre_relaxed_files[-4:]:\n",
    "        pre_relax_file  = file\n",
    "        id = os.path.splitext(os.path.basename(file))[0]\n",
    "        relax_file = self.root + \"/relax/\" + id + \"_relaxed_0001.pdb\"\n",
    "        print(id, relax_file)\n",
    "        # id_relax = id = os.path.splitext(os.path.basename(file))[0].replace(\"_relaxed_0001\", \"\")\n",
    "        # atom_emb\n",
    "        #get residue sequence and length of amino acid sequence and feed it into the embedding extractor \n",
    "        residue_sequence, seq_len = struc_feat.get_sequence(pre_relax_file)\n",
    "        atom_embs, atom_xyz, atom_relax_xyz, atom_nums, ca_pose= struc_feat.get_atom_emb(pre_relax_file, relax_file, [1, seq_len], residue_sequence)\n",
    "        \n",
    "        #get residue embeddings to concatenate iwth atom emb\n",
    "        residue_onehot = struc_feat.residue_onehot(residue_sequence)\n",
    "        #add residue encoding to atom emb\n",
    "        for i in range(len(atom_embs)):\n",
    "            #assign a seq emb to every atom of that residue\n",
    "            seq_emb = np.tile(residue_onehot[i], (len(atom_embs[i]), 1))\n",
    "            atom_emb = atom_embs[i]\n",
    "            atom_embs[i] = np.concatenate((seq_emb, atom_emb[:, :]), axis=1)\n",
    "            \n",
    "        #get per-residue atom coordinates\n",
    "        \n",
    "        node_feat['atom_emb'] = {\n",
    "            'embedding': atom_embs, #one_hot_atom_id +  one_hot_residue_id\n",
    "            'atom_pos': atom_xyz,\n",
    "            'atom_relax_pos': atom_relax_xyz,\n",
    "            'atom_nums': atom_nums,\n",
    "            'residue_sequence': residue_sequence,\n",
    "            'CA_lst': ca_pose,\n",
    "        }\n",
    "        return node_feat\n",
    "    \n",
    "    \"\"\"add this new edge handler function\"\"\"\n",
    "    def __get_edge_feat(self, file):\n",
    "        #TODO: call \n",
    "        return "
   ]
  },
  {
   "cell_type": "code",
   "execution_count": 27,
   "metadata": {},
   "outputs": [
    {
     "name": "stdout",
     "output_type": "stream",
     "text": [
      "A0A009IHW8 /work/slusky/s300y051/relax/test/relax/A0A009IHW8_relaxed_0001.pdb\n",
      "A0A023I7E1 /work/slusky/s300y051/relax/test/relax/A0A023I7E1_relaxed_0001.pdb\n",
      "A0A023YYV9 /work/slusky/s300y051/relax/test/relax/A0A023YYV9_relaxed_0001.pdb\n",
      "A0A059TC02 /work/slusky/s300y051/relax/test/relax/A0A059TC02_relaxed_0001.pdb\n"
     ]
    }
   ],
   "source": [
    "for item in DataConversion(root = \"/work/slusky/s300y051/relax/test\").raw_pre_relaxed_files[-4:]:\n",
    "    node_feat = DataConversion(root = \"/work/slusky/s300y051/relax/test\").__get_node_feat__(item)"
   ]
  },
  {
   "cell_type": "code",
   "execution_count": null,
   "metadata": {},
   "outputs": [],
   "source": [
    "#make pdb parser\n",
    "pdb_parser = Bio.PDB.PDBParser(QUIET=True)\n",
    "structure_true = pdb_parser.get_structure('native', \"/work/slusky/s300y051/relax/test/pre_relax/A0A009IHW8.pdb\")\n",
    "for res in structure_true.get_residues():\n",
    "    _resname = res.get_resname()\n",
    "    print(res.id[1])\n",
    "    \n",
    "    # for _atom in heavy_atoms_per_residue[_resname]['atoms']:\n",
    "    #     #get coord\n",
    "    #     atom_coord = res[_atom].coord\n",
    "    #     print(atom_coord)\n",
    "      \n",
    "        \n",
    "\n",
    "\n",
    "        \n",
    "    "
   ]
  },
  {
   "cell_type": "markdown",
   "metadata": {},
   "source": [
    "Get atomic neighborhood emb/distance based edges"
   ]
  },
  {
   "cell_type": "code",
   "execution_count": null,
   "metadata": {},
   "outputs": [],
   "source": []
  },
  {
   "cell_type": "markdown",
   "metadata": {},
   "source": [
    "Calculate Covalent edges"
   ]
  },
  {
   "cell_type": "code",
   "execution_count": null,
   "metadata": {},
   "outputs": [],
   "source": []
  }
 ],
 "metadata": {
  "kernelspec": {
   "display_name": "Python 3",
   "language": "python",
   "name": "python3"
  },
  "language_info": {
   "codemirror_mode": {
    "name": "ipython",
    "version": 3
   },
   "file_extension": ".py",
   "mimetype": "text/x-python",
   "name": "python",
   "nbconvert_exporter": "python",
   "pygments_lexer": "ipython3",
   "version": "3.10.14"
  },
  "orig_nbformat": 4
 },
 "nbformat": 4,
 "nbformat_minor": 2
}
