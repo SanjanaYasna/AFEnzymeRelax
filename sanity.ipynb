{
 "cells": [
  {
   "cell_type": "code",
   "execution_count": 1,
   "metadata": {},
   "outputs": [],
   "source": [
    "#read pkl\n",
    "import pickle\n",
    "import numpy as np\n",
    "heavy_atoms_per_residue = pickle.load(open(\"/work/slusky/s300y051/ATOMRefine/heavy_atoms.pkl\", \"rb\"))\n"
   ]
  },
  {
   "cell_type": "code",
   "execution_count": 15,
   "metadata": {},
   "outputs": [
    {
     "data": {
      "text/plain": [
       "{'ALA': {'atoms': ['N', 'CA', 'C', 'O', 'CB']},\n",
       " 'CYS': {'atoms': ['N', 'CA', 'C', 'O', 'CB', 'SG']},\n",
       " 'ASP': {'atoms': ['N', 'CA', 'C', 'O', 'CB', 'CG', 'OD1', 'OD2']},\n",
       " 'GLU': {'atoms': ['N', 'CA', 'C', 'O', 'CB', 'CG', 'CD', 'OE1', 'OE2']},\n",
       " 'PHE': {'atoms': ['N',\n",
       "   'CA',\n",
       "   'C',\n",
       "   'O',\n",
       "   'CB',\n",
       "   'CG',\n",
       "   'CD1',\n",
       "   'CD2',\n",
       "   'CE1',\n",
       "   'CE2',\n",
       "   'CZ']},\n",
       " 'GLY': {'atoms': ['N', 'CA', 'C', 'O']},\n",
       " 'HIS': {'atoms': ['N',\n",
       "   'CA',\n",
       "   'C',\n",
       "   'O',\n",
       "   'CB',\n",
       "   'CG',\n",
       "   'ND1',\n",
       "   'CD2',\n",
       "   'CE1',\n",
       "   'NE2']},\n",
       " 'ILE': {'atoms': ['N', 'CA', 'C', 'O', 'CB', 'CG1', 'CG2', 'CD1']},\n",
       " 'LYS': {'atoms': ['N', 'CA', 'C', 'O', 'CB', 'CG', 'CD', 'CE', 'NZ']},\n",
       " 'LEU': {'atoms': ['N', 'CA', 'C', 'O', 'CB', 'CG', 'CD1', 'CD2']},\n",
       " 'MET': {'atoms': ['N', 'CA', 'C', 'O', 'CB', 'CG', 'SD', 'CE']},\n",
       " 'ASN': {'atoms': ['N', 'CA', 'C', 'O', 'CB', 'CG', 'OD1', 'ND2']},\n",
       " 'PRO': {'atoms': ['N', 'CA', 'C', 'O', 'CB', 'CG', 'CD']},\n",
       " 'GLN': {'atoms': ['N', 'CA', 'C', 'O', 'CB', 'CG', 'CD', 'OE1', 'NE2']},\n",
       " 'ARG': {'atoms': ['N',\n",
       "   'CA',\n",
       "   'C',\n",
       "   'O',\n",
       "   'CB',\n",
       "   'CG',\n",
       "   'CD',\n",
       "   'NE',\n",
       "   'CZ',\n",
       "   'NH1',\n",
       "   'NH2']},\n",
       " 'SER': {'atoms': ['N', 'CA', 'C', 'O', 'CB', 'OG']},\n",
       " 'THR': {'atoms': ['N', 'CA', 'C', 'O', 'CB', 'OG1', 'CG2']},\n",
       " 'VAL': {'atoms': ['N', 'CA', 'C', 'O', 'CB', 'CG1', 'CG2']},\n",
       " 'TRP': {'atoms': ['N',\n",
       "   'CA',\n",
       "   'C',\n",
       "   'O',\n",
       "   'CB',\n",
       "   'CG',\n",
       "   'CD1',\n",
       "   'CD2',\n",
       "   'NE1',\n",
       "   'CE2',\n",
       "   'CE3',\n",
       "   'CZ2',\n",
       "   'CZ3',\n",
       "   'CH2']},\n",
       " 'TYR': {'atoms': ['N',\n",
       "   'CA',\n",
       "   'C',\n",
       "   'O',\n",
       "   'CB',\n",
       "   'CG',\n",
       "   'CD1',\n",
       "   'CD2',\n",
       "   'CE1',\n",
       "   'CE2',\n",
       "   'CZ',\n",
       "   'OH']}}"
      ]
     },
     "execution_count": 15,
     "metadata": {},
     "output_type": "execute_result"
    }
   ],
   "source": [
    "heavy_atoms_per_residue"
   ]
  },
  {
   "cell_type": "code",
   "execution_count": 2,
   "metadata": {},
   "outputs": [],
   "source": [
    "#test get_sequence\n",
    "import os, pickle\n",
    "import numpy as np\n",
    "import Bio.PDB\n",
    "from Bio import SeqIO\n",
    "from Bio.PDB.DSSP import DSSP\n",
    "from collections import defaultdict"
   ]
  },
  {
   "cell_type": "code",
   "execution_count": 3,
   "metadata": {},
   "outputs": [
    {
     "name": "stderr",
     "output_type": "stream",
     "text": [
      "/kuhpc/work/slusky/s300y051/conda_disk/.conda/envs/gcn/lib/python3.10/site-packages/Bio/SeqIO/PdbIO.py:322: BiopythonParserWarning: 'HEADER' line not found; can't determine PDB ID.\n",
      "  warnings.warn(\n"
     ]
    },
    {
     "data": {
      "text/plain": [
       "('MSLEQKKGADIISKILQIQNSIGKTTSPSTLKTKLSEISRKEQENARIQSKLSDLQKKKIDIDNKLLKEKQNLIKEEILERKKLEVLTKKQQKDEIEHQKKLKREIDAIKASTQYITDVSISSYNNTIPETEPEYDLFISHASEDKEDFVRPLAETLQQLGVNVWYDEFTLKVGDSLRQKIDSGLRNSKYGTVVLSTDFIKKDWTNYELDGLVAREMNGHKMILPIWHKITKNDVLDYSPNLADKVALNTSVNSIEEIAHQLADVILNR',\n",
       " 269)"
      ]
     },
     "execution_count": 3,
     "metadata": {},
     "output_type": "execute_result"
    }
   ],
   "source": [
    "def get_sequence(file):\n",
    "    for record in SeqIO.parse(file, \"pdb-atom\"):\n",
    "        return str(record.seq).upper(), len(record.seq)\n",
    "get_sequence(\"/work/slusky/s300y051/relax/test/pre_relax/A0A009IHW8.pdb\")"
   ]
  },
  {
   "cell_type": "code",
   "execution_count": null,
   "metadata": {},
   "outputs": [],
   "source": [
    "#make pdb parser\n",
    "pdb_parser = Bio.PDB.PDBParser(QUIET=True)\n",
    "structure_true = pdb_parser.get_structure('native', \"/work/slusky/s300y051/relax/test/pre_relax/A0A009IHW8.pdb\")\n",
    "for res in structure_true.get_residues():\n",
    "    _resname = res.get_resname()\n",
    "    print(res.id[1])\n",
    "    \n",
    "    # for _atom in heavy_atoms_per_residue[_resname]['atoms']:\n",
    "    #     #get coord\n",
    "    #     atom_coord = res[_atom].coord\n",
    "    #     print(atom_coord)\n",
    "      \n",
    "        \n",
    "\n",
    "\n",
    "        \n",
    "    "
   ]
  },
  {
   "cell_type": "code",
   "execution_count": null,
   "metadata": {},
   "outputs": [],
   "source": []
  }
 ],
 "metadata": {
  "kernelspec": {
   "display_name": "Python 3",
   "language": "python",
   "name": "python3"
  },
  "language_info": {
   "codemirror_mode": {
    "name": "ipython",
    "version": 3
   },
   "file_extension": ".py",
   "mimetype": "text/x-python",
   "name": "python",
   "nbconvert_exporter": "python",
   "pygments_lexer": "ipython3",
   "version": "3.10.14"
  },
  "orig_nbformat": 4
 },
 "nbformat": 4,
 "nbformat_minor": 2
}
