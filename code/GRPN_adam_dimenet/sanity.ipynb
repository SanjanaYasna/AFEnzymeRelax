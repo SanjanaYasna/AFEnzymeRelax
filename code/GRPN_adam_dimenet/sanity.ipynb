{
 "cells": [
  {
   "cell_type": "code",
   "execution_count": 1,
   "metadata": {},
   "outputs": [],
   "source": [
    "import os\n",
    "from torch_geometric.data import Data\n",
    "import torch\n",
    "import sys\n",
    "sys.path.insert(0,\"/kuhpc/work/slusky/syasna_sta/func_pred/code/\")\n",
    "from utils.dataloader import ProteinDataLoader\n",
    "from torch_geometric.loader import DataLoader"
   ]
  },
  {
   "cell_type": "code",
   "execution_count": 3,
   "metadata": {},
   "outputs": [],
   "source": [
    "#iterate through all the files\n",
    "dataloader = ProteinDataLoader(\"/kuhpc/scratch/slusky/syasna_sta/swissprot_protein_data/wildtype_pts\"\n",
    "                            )\n",
    "train_loader = DataLoader(dataloader, batch_size=32, shuffle=True)"
   ]
  },
  {
   "cell_type": "code",
   "execution_count": 15,
   "metadata": {},
   "outputs": [],
   "source": [
    "#load each file in the list directory o pts onto torch\n",
    "for file in os.listdir(\"/kuhpc/scratch/slusky/syasna_sta/swissprot_protein_data/wildtype_pts\"):\n",
    "    try:\n",
    "        data = torch.load(\"/kuhpc/scratch/slusky/syasna_sta/swissprot_protein_data/wildtype_pts\" +\"/\"+ file)\n",
    "    except:\n",
    "        print(file)\n",
    "    #print(data)\n",
    "    #print(data.x)\n",
    "    #print(data.y)\n",
    "    #print(data.edge_index)\n",
    "    #print(data.edge_attr)\n",
    "    #print(data.batch\n",
    "    "
   ]
  },
  {
   "cell_type": "code",
   "execution_count": 3,
   "metadata": {},
   "outputs": [
    {
     "data": {
      "text/plain": [
       "['A0A0H3JPC6_5TZI_2_205.pdb.pt']"
      ]
     },
     "execution_count": 3,
     "metadata": {},
     "output_type": "execute_result"
    }
   ],
   "source": [
    "file"
   ]
  },
  {
   "cell_type": "code",
   "execution_count": 10,
   "metadata": {},
   "outputs": [],
   "source": [
    "obj = torch.load(os.path.join(pt_path, file[0]))"
   ]
  },
  {
   "cell_type": "code",
   "execution_count": 5,
   "metadata": {},
   "outputs": [],
   "source": [
    "#get type of label_graphs in precision\n",
    "func_prob = obj.label_graphs.numpy()"
   ]
  },
  {
   "cell_type": "code",
   "execution_count": 6,
   "metadata": {},
   "outputs": [
    {
     "data": {
      "text/plain": [
       "dtype('float32')"
      ]
     },
     "execution_count": 6,
     "metadata": {},
     "output_type": "execute_result"
    }
   ],
   "source": [
    "func_prob.dtype"
   ]
  },
  {
   "cell_type": "code",
   "execution_count": 11,
   "metadata": {},
   "outputs": [
    {
     "data": {
      "text/plain": [
       "tensor(10)"
      ]
     },
     "execution_count": 11,
     "metadata": {},
     "output_type": "execute_result"
    }
   ],
   "source": [
    "obj.y.count_nonzero()"
   ]
  },
  {
   "cell_type": "code",
   "execution_count": 7,
   "metadata": {},
   "outputs": [],
   "source": [
    "model = torch.load(\n",
    "    \"/kuhpc/scratch/slusky/syasna_sta/rpn_metrics/GRPN_adam_gconv/weights/epoch_44.pt\"\n",
    ")"
   ]
  },
  {
   "cell_type": "code",
   "execution_count": 11,
   "metadata": {},
   "outputs": [],
   "source": [
    "#get model predictoin for first data point in data directory\n",
    "file = os.listdir(\"/kuhpc/scratch/slusky/syasna_sta/swissprot_protein_data/wildtype_pts\")[0]\n",
    "pt_path = \"/kuhpc/scratch/slusky/syasna_sta/swissprot_protein_data/wildtype_pts\""
   ]
  },
  {
   "cell_type": "code",
   "execution_count": 15,
   "metadata": {},
   "outputs": [],
   "source": [
    "#predit fr file\n",
    "obj = torch.load(os.path.join(pt_path, file))\n",
    "from model import MainModel"
   ]
  },
  {
   "cell_type": "code",
   "execution_count": null,
   "metadata": {},
   "outputs": [],
   "source": [
    "model = MainModel(8)\n",
    "model.load_state_dict(torch.load(\n",
    "    \"/kuhpc/scratch/slusky/syasna_sta/rpn_metrics/GRPN_adam_dimenet/weights/epoch_43.pt\", \n",
    "                                weights_only=True))"
   ]
  },
  {
   "cell_type": "code",
   "execution_count": 22,
   "metadata": {},
   "outputs": [
    {
     "name": "stdout",
     "output_type": "stream",
     "text": [
      "1036188\n"
     ]
    }
   ],
   "source": [
    "#count nodes\n",
    "files = os.listdir(\"/kuhpc/scratch/slusky/syasna_sta/swissprot_protein_data/wildtype_pts\")\n",
    "\n",
    "res_count = 0\n",
    "for file in files:\n",
    "    #count by file name\n",
    "    start_res = int(file.split(\"_\")[2])\n",
    "    end_res = int(file.split(\"_\")[3].split(\".\")[0])\n",
    "    res_count += end_res - start_res + 1\n",
    "print(res_count)"
   ]
  },
  {
   "cell_type": "code",
   "execution_count": 23,
   "metadata": {},
   "outputs": [
    {
     "data": {
      "text/plain": [
       "tensor([-inf, -inf, -inf, -inf, -inf, -inf, -inf, -inf])"
      ]
     },
     "execution_count": 23,
     "metadata": {},
     "output_type": "execute_result"
    }
   ],
   "source": [
    "#make tensor of zeroes\n",
    "torch.log(torch.zeros(8))"
   ]
  }
 ],
 "metadata": {
  "kernelspec": {
   "display_name": "Python 3",
   "language": "python",
   "name": "python3"
  },
  "language_info": {
   "codemirror_mode": {
    "name": "ipython",
    "version": 3
   },
   "file_extension": ".py",
   "mimetype": "text/x-python",
   "name": "python",
   "nbconvert_exporter": "python",
   "pygments_lexer": "ipython3",
   "version": "3.7.10"
  },
  "orig_nbformat": 4
 },
 "nbformat": 4,
 "nbformat_minor": 2
}
